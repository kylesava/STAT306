{
 "cells": [
  {
   "cell_type": "markdown",
   "id": "fcdbdb33-7ee6-4ee1-b477-0b98f193f503",
   "metadata": {},
   "source": [
    "# STAT 306 Project"
   ]
  },
  {
   "cell_type": "markdown",
   "id": "e565370a-4cc1-4eb6-a650-b42e4435f614",
   "metadata": {},
   "source": [
    "## Install Libraries\n",
    "Run this cell if the following cell throws errors."
   ]
  },
  {
   "cell_type": "code",
   "execution_count": 905,
   "id": "fbcae23a-47a3-48c7-a503-1a54845a5459",
   "metadata": {
    "tags": []
   },
   "outputs": [],
   "source": [
    "# install.packages(\"ggplot2\")\n",
    "# install.packages(\"leaps\")\n",
    "# install.packages(\"car\")"
   ]
  },
  {
   "cell_type": "markdown",
   "id": "95d7d2ed-3d2a-4dce-9b0d-a60054f81537",
   "metadata": {},
   "source": [
    "## Add Libraries"
   ]
  },
  {
   "cell_type": "code",
   "execution_count": 906,
   "id": "76a9c5a9-aa84-49d9-a39a-efcb309f98a1",
   "metadata": {
    "tags": []
   },
   "outputs": [],
   "source": [
    "library(ggplot2)\n",
    "library(leaps)\n",
    "library(car)"
   ]
  },
  {
   "cell_type": "markdown",
   "id": "a03b46b6-a241-4be1-9091-151a58007e76",
   "metadata": {},
   "source": [
    "### Load and Preview Data\n"
   ]
  },
  {
   "cell_type": "code",
   "execution_count": 907,
   "id": "9ed173e1-2fe9-4b5f-b85e-853dbd622803",
   "metadata": {
    "tags": []
   },
   "outputs": [],
   "source": [
    "setwd(\"/home/jupyter/stat306_group_project/\")"
   ]
  },
  {
   "cell_type": "code",
   "execution_count": 908,
   "id": "c86111ad-b5de-40b5-918f-0ee26bb020c8",
   "metadata": {
    "tags": []
   },
   "outputs": [
    {
     "data": {
      "text/html": [
       "<table class=\"dataframe\">\n",
       "<caption>A data.frame: 6 × 15</caption>\n",
       "<thead>\n",
       "\t<tr><th></th><th scope=col>ID</th><th scope=col>Age</th><th scope=col>Gender</th><th scope=col>Bedtime</th><th scope=col>Wakeup.time</th><th scope=col>Sleep.duration</th><th scope=col>Sleep.efficiency</th><th scope=col>REM.sleep.percentage</th><th scope=col>Deep.sleep.percentage</th><th scope=col>Light.sleep.percentage</th><th scope=col>Awakenings</th><th scope=col>Caffeine.consumption</th><th scope=col>Alcohol.consumption</th><th scope=col>Smoking.status</th><th scope=col>Exercise.frequency</th></tr>\n",
       "\t<tr><th></th><th scope=col>&lt;int&gt;</th><th scope=col>&lt;int&gt;</th><th scope=col>&lt;chr&gt;</th><th scope=col>&lt;chr&gt;</th><th scope=col>&lt;chr&gt;</th><th scope=col>&lt;dbl&gt;</th><th scope=col>&lt;dbl&gt;</th><th scope=col>&lt;int&gt;</th><th scope=col>&lt;int&gt;</th><th scope=col>&lt;int&gt;</th><th scope=col>&lt;dbl&gt;</th><th scope=col>&lt;dbl&gt;</th><th scope=col>&lt;dbl&gt;</th><th scope=col>&lt;chr&gt;</th><th scope=col>&lt;dbl&gt;</th></tr>\n",
       "</thead>\n",
       "<tbody>\n",
       "\t<tr><th scope=row>1</th><td>1</td><td>65</td><td>Female</td><td>2021-03-06 01:00:00</td><td>2021-03-06 07:00:00</td><td>6.0</td><td>0.88</td><td>18</td><td>70</td><td>12</td><td>0</td><td> 0</td><td>0</td><td>Yes</td><td>3</td></tr>\n",
       "\t<tr><th scope=row>2</th><td>2</td><td>69</td><td>Male  </td><td>2021-12-05 02:00:00</td><td>2021-12-05 09:00:00</td><td>7.0</td><td>0.66</td><td>19</td><td>28</td><td>53</td><td>3</td><td> 0</td><td>3</td><td>Yes</td><td>3</td></tr>\n",
       "\t<tr><th scope=row>3</th><td>3</td><td>40</td><td>Female</td><td>2021-05-25 21:30:00</td><td>2021-05-25 05:30:00</td><td>8.0</td><td>0.89</td><td>20</td><td>70</td><td>10</td><td>1</td><td> 0</td><td>0</td><td>No </td><td>3</td></tr>\n",
       "\t<tr><th scope=row>4</th><td>4</td><td>40</td><td>Female</td><td>2021-11-03 02:30:00</td><td>2021-11-03 08:30:00</td><td>6.0</td><td>0.51</td><td>23</td><td>25</td><td>52</td><td>3</td><td>50</td><td>5</td><td>Yes</td><td>1</td></tr>\n",
       "\t<tr><th scope=row>5</th><td>5</td><td>57</td><td>Male  </td><td>2021-03-13 01:00:00</td><td>2021-03-13 09:00:00</td><td>8.0</td><td>0.76</td><td>27</td><td>55</td><td>18</td><td>3</td><td> 0</td><td>3</td><td>No </td><td>3</td></tr>\n",
       "\t<tr><th scope=row>6</th><td>6</td><td>36</td><td>Female</td><td>2021-07-01 21:00:00</td><td>2021-07-01 04:30:00</td><td>7.5</td><td>0.90</td><td>23</td><td>60</td><td>17</td><td>0</td><td>NA</td><td>0</td><td>No </td><td>1</td></tr>\n",
       "</tbody>\n",
       "</table>\n"
      ],
      "text/latex": [
       "A data.frame: 6 × 15\n",
       "\\begin{tabular}{r|lllllllllllllll}\n",
       "  & ID & Age & Gender & Bedtime & Wakeup.time & Sleep.duration & Sleep.efficiency & REM.sleep.percentage & Deep.sleep.percentage & Light.sleep.percentage & Awakenings & Caffeine.consumption & Alcohol.consumption & Smoking.status & Exercise.frequency\\\\\n",
       "  & <int> & <int> & <chr> & <chr> & <chr> & <dbl> & <dbl> & <int> & <int> & <int> & <dbl> & <dbl> & <dbl> & <chr> & <dbl>\\\\\n",
       "\\hline\n",
       "\t1 & 1 & 65 & Female & 2021-03-06 01:00:00 & 2021-03-06 07:00:00 & 6.0 & 0.88 & 18 & 70 & 12 & 0 &  0 & 0 & Yes & 3\\\\\n",
       "\t2 & 2 & 69 & Male   & 2021-12-05 02:00:00 & 2021-12-05 09:00:00 & 7.0 & 0.66 & 19 & 28 & 53 & 3 &  0 & 3 & Yes & 3\\\\\n",
       "\t3 & 3 & 40 & Female & 2021-05-25 21:30:00 & 2021-05-25 05:30:00 & 8.0 & 0.89 & 20 & 70 & 10 & 1 &  0 & 0 & No  & 3\\\\\n",
       "\t4 & 4 & 40 & Female & 2021-11-03 02:30:00 & 2021-11-03 08:30:00 & 6.0 & 0.51 & 23 & 25 & 52 & 3 & 50 & 5 & Yes & 1\\\\\n",
       "\t5 & 5 & 57 & Male   & 2021-03-13 01:00:00 & 2021-03-13 09:00:00 & 8.0 & 0.76 & 27 & 55 & 18 & 3 &  0 & 3 & No  & 3\\\\\n",
       "\t6 & 6 & 36 & Female & 2021-07-01 21:00:00 & 2021-07-01 04:30:00 & 7.5 & 0.90 & 23 & 60 & 17 & 0 & NA & 0 & No  & 1\\\\\n",
       "\\end{tabular}\n"
      ],
      "text/markdown": [
       "\n",
       "A data.frame: 6 × 15\n",
       "\n",
       "| <!--/--> | ID &lt;int&gt; | Age &lt;int&gt; | Gender &lt;chr&gt; | Bedtime &lt;chr&gt; | Wakeup.time &lt;chr&gt; | Sleep.duration &lt;dbl&gt; | Sleep.efficiency &lt;dbl&gt; | REM.sleep.percentage &lt;int&gt; | Deep.sleep.percentage &lt;int&gt; | Light.sleep.percentage &lt;int&gt; | Awakenings &lt;dbl&gt; | Caffeine.consumption &lt;dbl&gt; | Alcohol.consumption &lt;dbl&gt; | Smoking.status &lt;chr&gt; | Exercise.frequency &lt;dbl&gt; |\n",
       "|---|---|---|---|---|---|---|---|---|---|---|---|---|---|---|---|\n",
       "| 1 | 1 | 65 | Female | 2021-03-06 01:00:00 | 2021-03-06 07:00:00 | 6.0 | 0.88 | 18 | 70 | 12 | 0 |  0 | 0 | Yes | 3 |\n",
       "| 2 | 2 | 69 | Male   | 2021-12-05 02:00:00 | 2021-12-05 09:00:00 | 7.0 | 0.66 | 19 | 28 | 53 | 3 |  0 | 3 | Yes | 3 |\n",
       "| 3 | 3 | 40 | Female | 2021-05-25 21:30:00 | 2021-05-25 05:30:00 | 8.0 | 0.89 | 20 | 70 | 10 | 1 |  0 | 0 | No  | 3 |\n",
       "| 4 | 4 | 40 | Female | 2021-11-03 02:30:00 | 2021-11-03 08:30:00 | 6.0 | 0.51 | 23 | 25 | 52 | 3 | 50 | 5 | Yes | 1 |\n",
       "| 5 | 5 | 57 | Male   | 2021-03-13 01:00:00 | 2021-03-13 09:00:00 | 8.0 | 0.76 | 27 | 55 | 18 | 3 |  0 | 3 | No  | 3 |\n",
       "| 6 | 6 | 36 | Female | 2021-07-01 21:00:00 | 2021-07-01 04:30:00 | 7.5 | 0.90 | 23 | 60 | 17 | 0 | NA | 0 | No  | 1 |\n",
       "\n"
      ],
      "text/plain": [
       "  ID Age Gender Bedtime             Wakeup.time         Sleep.duration\n",
       "1 1  65  Female 2021-03-06 01:00:00 2021-03-06 07:00:00 6.0           \n",
       "2 2  69  Male   2021-12-05 02:00:00 2021-12-05 09:00:00 7.0           \n",
       "3 3  40  Female 2021-05-25 21:30:00 2021-05-25 05:30:00 8.0           \n",
       "4 4  40  Female 2021-11-03 02:30:00 2021-11-03 08:30:00 6.0           \n",
       "5 5  57  Male   2021-03-13 01:00:00 2021-03-13 09:00:00 8.0           \n",
       "6 6  36  Female 2021-07-01 21:00:00 2021-07-01 04:30:00 7.5           \n",
       "  Sleep.efficiency REM.sleep.percentage Deep.sleep.percentage\n",
       "1 0.88             18                   70                   \n",
       "2 0.66             19                   28                   \n",
       "3 0.89             20                   70                   \n",
       "4 0.51             23                   25                   \n",
       "5 0.76             27                   55                   \n",
       "6 0.90             23                   60                   \n",
       "  Light.sleep.percentage Awakenings Caffeine.consumption Alcohol.consumption\n",
       "1 12                     0           0                   0                  \n",
       "2 53                     3           0                   3                  \n",
       "3 10                     1           0                   0                  \n",
       "4 52                     3          50                   5                  \n",
       "5 18                     3           0                   3                  \n",
       "6 17                     0          NA                   0                  \n",
       "  Smoking.status Exercise.frequency\n",
       "1 Yes            3                 \n",
       "2 Yes            3                 \n",
       "3 No             3                 \n",
       "4 Yes            1                 \n",
       "5 No             3                 \n",
       "6 No             1                 "
      ]
     },
     "metadata": {},
     "output_type": "display_data"
    }
   ],
   "source": [
    "df = read.csv(\"Sleep_Efficiency.csv\")\n",
    "head(df)"
   ]
  },
  {
   "cell_type": "markdown",
   "id": "13678924-0bce-44eb-8eef-b660adc2e2cd",
   "metadata": {},
   "source": [
    "### Preliminary Data Cleaning\n",
    "Here, we identify and remove NA Cells from the data. "
   ]
  },
  {
   "cell_type": "code",
   "execution_count": 909,
   "id": "5748c816-79cc-44f6-9e1b-06b54d0c3b42",
   "metadata": {
    "tags": []
   },
   "outputs": [
    {
     "name": "stdout",
     "output_type": "stream",
     "text": [
      "[1] \"There are 64 entries with NAs.\"\n"
     ]
    }
   ],
   "source": [
    "# identify NAs\n",
    "na_locations <- which(is.na(df), arr.ind = TRUE)[, 1]\n",
    "# how many do we have?\n",
    "print(paste(\"There are\", length(unique(na_locations)), \"entries with NAs.\"))\n",
    "# subset original dataframe\n",
    "df1 = df[-unique(na_locations),]"
   ]
  },
  {
   "cell_type": "markdown",
   "id": "5ee329b3-e20f-48c8-a7b8-cb0e93540c8e",
   "metadata": {},
   "source": [
    "Data Cleaning Continued : `Bedtime` and `Wakeup.time` as numeric variables in $[0, 24]$."
   ]
  },
  {
   "cell_type": "code",
   "execution_count": 910,
   "id": "9052a99f-c000-4ece-9fed-82c39fdd2d90",
   "metadata": {
    "tags": []
   },
   "outputs": [],
   "source": [
    "df1$Bedtime = as.numeric(format(strptime(df1$Bedtime, format = \"%Y-%m-%d %H:%M:%S\"), format = \"%H\"))\n",
    "df1$Wakeup.time = as.numeric(format(strptime(df1$Wakeup.time, format = \"%Y-%m-%d %H:%M:%S\"), format = \"%H\"))"
   ]
  },
  {
   "cell_type": "markdown",
   "id": "29275f02-98d6-4895-8bec-076e3cbca6c1",
   "metadata": {},
   "source": [
    "Here, we replace `Smoking.status` with `1` if the person responded \"Yes,\" and `0` otherwise. This is slightly more useful in terms of regression dummy variables."
   ]
  },
  {
   "cell_type": "code",
   "execution_count": 911,
   "id": "a687c612-2cf3-4ffc-915d-199dd1061780",
   "metadata": {
    "tags": []
   },
   "outputs": [],
   "source": [
    "df1$Smoking.status = as.numeric((df1$Smoking.status) == unique(df1$Smoking.status)[1])"
   ]
  },
  {
   "cell_type": "markdown",
   "id": "dd8f5f45-6830-4ea0-8e0e-b6812d23af74",
   "metadata": {},
   "source": [
    "Here, we declare the remaining categorical variables in the model as factors."
   ]
  },
  {
   "cell_type": "code",
   "execution_count": 912,
   "id": "0c0379dd-2621-4b9c-b95c-53fdf051e6a5",
   "metadata": {
    "tags": []
   },
   "outputs": [],
   "source": [
    "# use the factor function to ensure R treats these as categories\n",
    "df1$Gender = factor(df1$Gender)\n",
    "df1$Caffeine.consumption = factor(df1$Caffeine.consumption)\n",
    "df1$Alcohol.consumption = factor(df1$Alcohol.consumption)\n",
    "df1$Exercise.frequency = factor(df1$Exercise.frequency)"
   ]
  },
  {
   "cell_type": "markdown",
   "id": "be86e9d3-29d3-44bb-b2a2-9406ff75288c",
   "metadata": {},
   "source": [
    "Now, we can preview the levels of each Factor."
   ]
  },
  {
   "cell_type": "code",
   "execution_count": 913,
   "id": "76da6718-fb2f-4f97-8196-ab25c1012ddc",
   "metadata": {
    "tags": []
   },
   "outputs": [
    {
     "data": {
      "text/html": [
       "<style>\n",
       ".list-inline {list-style: none; margin:0; padding: 0}\n",
       ".list-inline>li {display: inline-block}\n",
       ".list-inline>li:not(:last-child)::after {content: \"\\00b7\"; padding: 0 .5ex}\n",
       "</style>\n",
       "<ol class=list-inline><li>'0'</li><li>'25'</li><li>'50'</li><li>'75'</li><li>'100'</li><li>'200'</li></ol>\n"
      ],
      "text/latex": [
       "\\begin{enumerate*}\n",
       "\\item '0'\n",
       "\\item '25'\n",
       "\\item '50'\n",
       "\\item '75'\n",
       "\\item '100'\n",
       "\\item '200'\n",
       "\\end{enumerate*}\n"
      ],
      "text/markdown": [
       "1. '0'\n",
       "2. '25'\n",
       "3. '50'\n",
       "4. '75'\n",
       "5. '100'\n",
       "6. '200'\n",
       "\n",
       "\n"
      ],
      "text/plain": [
       "[1] \"0\"   \"25\"  \"50\"  \"75\"  \"100\" \"200\""
      ]
     },
     "metadata": {},
     "output_type": "display_data"
    }
   ],
   "source": [
    "levels(df1$Caffeine.consumption)"
   ]
  },
  {
   "cell_type": "code",
   "execution_count": 914,
   "id": "d105c236-e13b-4147-a9b5-813d21e84c07",
   "metadata": {
    "tags": []
   },
   "outputs": [
    {
     "data": {
      "text/html": [
       "<style>\n",
       ".list-inline {list-style: none; margin:0; padding: 0}\n",
       ".list-inline>li {display: inline-block}\n",
       ".list-inline>li:not(:last-child)::after {content: \"\\00b7\"; padding: 0 .5ex}\n",
       "</style>\n",
       "<ol class=list-inline><li>'0'</li><li>'1'</li><li>'2'</li><li>'3'</li><li>'4'</li><li>'5'</li></ol>\n"
      ],
      "text/latex": [
       "\\begin{enumerate*}\n",
       "\\item '0'\n",
       "\\item '1'\n",
       "\\item '2'\n",
       "\\item '3'\n",
       "\\item '4'\n",
       "\\item '5'\n",
       "\\end{enumerate*}\n"
      ],
      "text/markdown": [
       "1. '0'\n",
       "2. '1'\n",
       "3. '2'\n",
       "4. '3'\n",
       "5. '4'\n",
       "6. '5'\n",
       "\n",
       "\n"
      ],
      "text/plain": [
       "[1] \"0\" \"1\" \"2\" \"3\" \"4\" \"5\""
      ]
     },
     "metadata": {},
     "output_type": "display_data"
    }
   ],
   "source": [
    "levels(df1$Alcohol.consumption)"
   ]
  },
  {
   "cell_type": "code",
   "execution_count": 915,
   "id": "17dae310-9bd7-4da1-b759-507ed0b9e35c",
   "metadata": {
    "tags": []
   },
   "outputs": [
    {
     "data": {
      "text/html": [
       "<style>\n",
       ".list-inline {list-style: none; margin:0; padding: 0}\n",
       ".list-inline>li {display: inline-block}\n",
       ".list-inline>li:not(:last-child)::after {content: \"\\00b7\"; padding: 0 .5ex}\n",
       "</style>\n",
       "<ol class=list-inline><li>'Female'</li><li>'Male'</li></ol>\n"
      ],
      "text/latex": [
       "\\begin{enumerate*}\n",
       "\\item 'Female'\n",
       "\\item 'Male'\n",
       "\\end{enumerate*}\n"
      ],
      "text/markdown": [
       "1. 'Female'\n",
       "2. 'Male'\n",
       "\n",
       "\n"
      ],
      "text/plain": [
       "[1] \"Female\" \"Male\"  "
      ]
     },
     "metadata": {},
     "output_type": "display_data"
    }
   ],
   "source": [
    "levels(df1$Gender)"
   ]
  },
  {
   "cell_type": "code",
   "execution_count": 916,
   "id": "6023239f-c309-4fb4-b211-3c538e3670ed",
   "metadata": {
    "tags": []
   },
   "outputs": [
    {
     "data": {
      "text/html": [
       "<style>\n",
       ".list-inline {list-style: none; margin:0; padding: 0}\n",
       ".list-inline>li {display: inline-block}\n",
       ".list-inline>li:not(:last-child)::after {content: \"\\00b7\"; padding: 0 .5ex}\n",
       "</style>\n",
       "<ol class=list-inline><li>'0'</li><li>'1'</li><li>'2'</li><li>'3'</li><li>'4'</li><li>'5'</li></ol>\n"
      ],
      "text/latex": [
       "\\begin{enumerate*}\n",
       "\\item '0'\n",
       "\\item '1'\n",
       "\\item '2'\n",
       "\\item '3'\n",
       "\\item '4'\n",
       "\\item '5'\n",
       "\\end{enumerate*}\n"
      ],
      "text/markdown": [
       "1. '0'\n",
       "2. '1'\n",
       "3. '2'\n",
       "4. '3'\n",
       "5. '4'\n",
       "6. '5'\n",
       "\n",
       "\n"
      ],
      "text/plain": [
       "[1] \"0\" \"1\" \"2\" \"3\" \"4\" \"5\""
      ]
     },
     "metadata": {},
     "output_type": "display_data"
    }
   ],
   "source": [
    "levels(df1$Exercise.frequency)"
   ]
  },
  {
   "cell_type": "markdown",
   "id": "b2e94448-cf5d-4b58-a4e8-8308db817f2e",
   "metadata": {},
   "source": [
    "And, finally, preview the whole dataframe."
   ]
  },
  {
   "cell_type": "code",
   "execution_count": 917,
   "id": "e2406f70-39d9-4dd8-b574-08e38be305c7",
   "metadata": {
    "tags": []
   },
   "outputs": [
    {
     "data": {
      "text/html": [
       "<table class=\"dataframe\">\n",
       "<caption>A data.frame: 6 × 15</caption>\n",
       "<thead>\n",
       "\t<tr><th></th><th scope=col>ID</th><th scope=col>Age</th><th scope=col>Gender</th><th scope=col>Bedtime</th><th scope=col>Wakeup.time</th><th scope=col>Sleep.duration</th><th scope=col>Sleep.efficiency</th><th scope=col>REM.sleep.percentage</th><th scope=col>Deep.sleep.percentage</th><th scope=col>Light.sleep.percentage</th><th scope=col>Awakenings</th><th scope=col>Caffeine.consumption</th><th scope=col>Alcohol.consumption</th><th scope=col>Smoking.status</th><th scope=col>Exercise.frequency</th></tr>\n",
       "\t<tr><th></th><th scope=col>&lt;int&gt;</th><th scope=col>&lt;int&gt;</th><th scope=col>&lt;fct&gt;</th><th scope=col>&lt;dbl&gt;</th><th scope=col>&lt;dbl&gt;</th><th scope=col>&lt;dbl&gt;</th><th scope=col>&lt;dbl&gt;</th><th scope=col>&lt;int&gt;</th><th scope=col>&lt;int&gt;</th><th scope=col>&lt;int&gt;</th><th scope=col>&lt;dbl&gt;</th><th scope=col>&lt;fct&gt;</th><th scope=col>&lt;fct&gt;</th><th scope=col>&lt;dbl&gt;</th><th scope=col>&lt;fct&gt;</th></tr>\n",
       "</thead>\n",
       "<tbody>\n",
       "\t<tr><th scope=row>1</th><td>1</td><td>65</td><td>Female</td><td> 1</td><td>7</td><td>6</td><td>0.88</td><td>18</td><td>70</td><td>12</td><td>0</td><td>0 </td><td>0</td><td>1</td><td>3</td></tr>\n",
       "\t<tr><th scope=row>2</th><td>2</td><td>69</td><td>Male  </td><td> 2</td><td>9</td><td>7</td><td>0.66</td><td>19</td><td>28</td><td>53</td><td>3</td><td>0 </td><td>3</td><td>1</td><td>3</td></tr>\n",
       "\t<tr><th scope=row>3</th><td>3</td><td>40</td><td>Female</td><td>21</td><td>5</td><td>8</td><td>0.89</td><td>20</td><td>70</td><td>10</td><td>1</td><td>0 </td><td>0</td><td>0</td><td>3</td></tr>\n",
       "\t<tr><th scope=row>4</th><td>4</td><td>40</td><td>Female</td><td> 2</td><td>8</td><td>6</td><td>0.51</td><td>23</td><td>25</td><td>52</td><td>3</td><td>50</td><td>5</td><td>1</td><td>1</td></tr>\n",
       "\t<tr><th scope=row>5</th><td>5</td><td>57</td><td>Male  </td><td> 1</td><td>9</td><td>8</td><td>0.76</td><td>27</td><td>55</td><td>18</td><td>3</td><td>0 </td><td>3</td><td>0</td><td>3</td></tr>\n",
       "\t<tr><th scope=row>7</th><td>7</td><td>27</td><td>Female</td><td>21</td><td>3</td><td>6</td><td>0.54</td><td>28</td><td>25</td><td>47</td><td>2</td><td>50</td><td>0</td><td>1</td><td>1</td></tr>\n",
       "</tbody>\n",
       "</table>\n"
      ],
      "text/latex": [
       "A data.frame: 6 × 15\n",
       "\\begin{tabular}{r|lllllllllllllll}\n",
       "  & ID & Age & Gender & Bedtime & Wakeup.time & Sleep.duration & Sleep.efficiency & REM.sleep.percentage & Deep.sleep.percentage & Light.sleep.percentage & Awakenings & Caffeine.consumption & Alcohol.consumption & Smoking.status & Exercise.frequency\\\\\n",
       "  & <int> & <int> & <fct> & <dbl> & <dbl> & <dbl> & <dbl> & <int> & <int> & <int> & <dbl> & <fct> & <fct> & <dbl> & <fct>\\\\\n",
       "\\hline\n",
       "\t1 & 1 & 65 & Female &  1 & 7 & 6 & 0.88 & 18 & 70 & 12 & 0 & 0  & 0 & 1 & 3\\\\\n",
       "\t2 & 2 & 69 & Male   &  2 & 9 & 7 & 0.66 & 19 & 28 & 53 & 3 & 0  & 3 & 1 & 3\\\\\n",
       "\t3 & 3 & 40 & Female & 21 & 5 & 8 & 0.89 & 20 & 70 & 10 & 1 & 0  & 0 & 0 & 3\\\\\n",
       "\t4 & 4 & 40 & Female &  2 & 8 & 6 & 0.51 & 23 & 25 & 52 & 3 & 50 & 5 & 1 & 1\\\\\n",
       "\t5 & 5 & 57 & Male   &  1 & 9 & 8 & 0.76 & 27 & 55 & 18 & 3 & 0  & 3 & 0 & 3\\\\\n",
       "\t7 & 7 & 27 & Female & 21 & 3 & 6 & 0.54 & 28 & 25 & 47 & 2 & 50 & 0 & 1 & 1\\\\\n",
       "\\end{tabular}\n"
      ],
      "text/markdown": [
       "\n",
       "A data.frame: 6 × 15\n",
       "\n",
       "| <!--/--> | ID &lt;int&gt; | Age &lt;int&gt; | Gender &lt;fct&gt; | Bedtime &lt;dbl&gt; | Wakeup.time &lt;dbl&gt; | Sleep.duration &lt;dbl&gt; | Sleep.efficiency &lt;dbl&gt; | REM.sleep.percentage &lt;int&gt; | Deep.sleep.percentage &lt;int&gt; | Light.sleep.percentage &lt;int&gt; | Awakenings &lt;dbl&gt; | Caffeine.consumption &lt;fct&gt; | Alcohol.consumption &lt;fct&gt; | Smoking.status &lt;dbl&gt; | Exercise.frequency &lt;fct&gt; |\n",
       "|---|---|---|---|---|---|---|---|---|---|---|---|---|---|---|---|\n",
       "| 1 | 1 | 65 | Female |  1 | 7 | 6 | 0.88 | 18 | 70 | 12 | 0 | 0  | 0 | 1 | 3 |\n",
       "| 2 | 2 | 69 | Male   |  2 | 9 | 7 | 0.66 | 19 | 28 | 53 | 3 | 0  | 3 | 1 | 3 |\n",
       "| 3 | 3 | 40 | Female | 21 | 5 | 8 | 0.89 | 20 | 70 | 10 | 1 | 0  | 0 | 0 | 3 |\n",
       "| 4 | 4 | 40 | Female |  2 | 8 | 6 | 0.51 | 23 | 25 | 52 | 3 | 50 | 5 | 1 | 1 |\n",
       "| 5 | 5 | 57 | Male   |  1 | 9 | 8 | 0.76 | 27 | 55 | 18 | 3 | 0  | 3 | 0 | 3 |\n",
       "| 7 | 7 | 27 | Female | 21 | 3 | 6 | 0.54 | 28 | 25 | 47 | 2 | 50 | 0 | 1 | 1 |\n",
       "\n"
      ],
      "text/plain": [
       "  ID Age Gender Bedtime Wakeup.time Sleep.duration Sleep.efficiency\n",
       "1 1  65  Female  1      7           6              0.88            \n",
       "2 2  69  Male    2      9           7              0.66            \n",
       "3 3  40  Female 21      5           8              0.89            \n",
       "4 4  40  Female  2      8           6              0.51            \n",
       "5 5  57  Male    1      9           8              0.76            \n",
       "7 7  27  Female 21      3           6              0.54            \n",
       "  REM.sleep.percentage Deep.sleep.percentage Light.sleep.percentage Awakenings\n",
       "1 18                   70                    12                     0         \n",
       "2 19                   28                    53                     3         \n",
       "3 20                   70                    10                     1         \n",
       "4 23                   25                    52                     3         \n",
       "5 27                   55                    18                     3         \n",
       "7 28                   25                    47                     2         \n",
       "  Caffeine.consumption Alcohol.consumption Smoking.status Exercise.frequency\n",
       "1 0                    0                   1              3                 \n",
       "2 0                    3                   1              3                 \n",
       "3 0                    0                   0              3                 \n",
       "4 50                   5                   1              1                 \n",
       "5 0                    3                   0              3                 \n",
       "7 50                   0                   1              1                 "
      ]
     },
     "metadata": {},
     "output_type": "display_data"
    }
   ],
   "source": [
    "# preview\n",
    "head(df1)"
   ]
  },
  {
   "cell_type": "markdown",
   "id": "548efba0-2233-4b61-9c41-910ffa91b58a",
   "metadata": {},
   "source": [
    "### Logistic Regression Set-Up\n",
    "Here, we can define \"sleep efficient\" as a 0 or 1, indicating whether or not someone is efficient with their sleep. <br>\n",
    "This metric is used due to the fact that many respondents seemed to have a `0.5` efficiency."
   ]
  },
  {
   "cell_type": "code",
   "execution_count": 918,
   "id": "e9b3dcd5-0e29-4176-adf4-cdd15099edd3",
   "metadata": {},
   "outputs": [],
   "source": [
    "# define boolean vector\n",
    "sleep_efficicient = df1$Sleep.efficiency < 0.5\n",
    "# append to data frame\n",
    "df1 = cbind(df1, sleep_efficicient)"
   ]
  },
  {
   "cell_type": "markdown",
   "id": "a98b7b3c-c5e1-41c4-b103-b78f75eebf7d",
   "metadata": {},
   "source": [
    "### What Does the Full Model Look Like? (brainstorm)\n",
    "From these data, we could consider a model in which we take Sleep Efficiency $y$, for $y \\in [0,5, 0.99]$ and consider the following explanatory variables.\n",
    "* `Age`, as $x_1 \\in [9, 69] \\subset \\mathbb{N}$, as a Numeric Variable. There may be interaction with this variable and many others. For example, `Age` is certainly dependant on `Smoking.status` and `Alcohol.consumption`.\n",
    "* `Bedtime` and `Wakeup.time` define the `Sleep.duration` variable, so there is obviously colinearity there.\n",
    "\n",
    "My first thoughts on the full model (ignoring interaction terms, of which there will be many). In order of columns we will have.\n",
    "* Age, Bedtime, WakeupTime, SleepDuration, REMSleepPercentage, DeepSleepPercentage, LightSleepPercentage, Awakenings are **numeric**\n",
    "* Gender, CaffeineConsumption, SmokingStatus, Exercise.Frequency as categorical variables.\n",
    "    * Gender has 2 Levels\n",
    "    * Caffeine Consumption has 6 Levels\n",
    "    * Alcohol Consumption has 6 Levels\n",
    "    * Exercise Frequency has 6 Levels"
   ]
  },
  {
   "cell_type": "markdown",
   "id": "1b075d2c-1084-4f9a-9ff6-89b7970fbdd2",
   "metadata": {},
   "source": [
    "### Separate Data into Train and Test\n",
    "We'll use two different metrics, 80-20 ratio, which means 80% is training and 20% is testing. We'll may also do a 70-30 split."
   ]
  },
  {
   "cell_type": "code",
   "execution_count": 919,
   "id": "f5233f2d-f13b-4bce-920c-e93d0046b3e9",
   "metadata": {
    "tags": []
   },
   "outputs": [],
   "source": [
    "set.seed(20071969) # set seed to 20 July, 1969"
   ]
  },
  {
   "cell_type": "markdown",
   "id": "1157234c-7c49-41d7-803f-e06a64964214",
   "metadata": {},
   "source": [
    "#### Train and Test Set 1\n",
    "Here, we put 80% of the data into training and 20% into testing."
   ]
  },
  {
   "cell_type": "code",
   "execution_count": 920,
   "id": "66749e25-1d99-4859-8305-c0936436c6fa",
   "metadata": {
    "tags": []
   },
   "outputs": [
    {
     "data": {
      "text/plain": [
       "       ID             Age           Gender       Bedtime       Wakeup.time    \n",
       " Min.   :  1.0   Min.   : 9.00   Female:155   Min.   : 0.00   Min.   : 3.000  \n",
       " 1st Qu.:121.5   1st Qu.:29.00   Male  :156   1st Qu.: 1.00   1st Qu.: 5.000  \n",
       " Median :231.0   Median :40.00                Median : 2.00   Median : 7.000  \n",
       " Mean   :228.4   Mean   :40.87                Mean   :10.72   Mean   : 6.913  \n",
       " 3rd Qu.:337.0   3rd Qu.:52.00                3rd Qu.:22.00   3rd Qu.: 9.000  \n",
       " Max.   :452.0   Max.   :69.00                Max.   :23.00   Max.   :12.000  \n",
       " Sleep.duration   Sleep.efficiency REM.sleep.percentage Deep.sleep.percentage\n",
       " Min.   : 5.000   Min.   :0.500    Min.   :15.00        Min.   :18.00        \n",
       " 1st Qu.: 7.000   1st Qu.:0.710    1st Qu.:20.00        1st Qu.:52.00        \n",
       " Median : 7.500   Median :0.830    Median :22.00        Median :58.00        \n",
       " Mean   : 7.486   Mean   :0.791    Mean   :22.66        Mean   :53.21        \n",
       " 3rd Qu.: 8.000   3rd Qu.:0.905    3rd Qu.:25.00        3rd Qu.:63.00        \n",
       " Max.   :10.000   Max.   :0.990    Max.   :30.00        Max.   :75.00        \n",
       " Light.sleep.percentage   Awakenings    Caffeine.consumption\n",
       " Min.   : 7.00          Min.   :0.000   0  :156             \n",
       " 1st Qu.:15.00          1st Qu.:1.000   25 : 62             \n",
       " Median :18.00          Median :1.000   50 : 74             \n",
       " Mean   :24.14          Mean   :1.614   75 : 15             \n",
       " 3rd Qu.:21.50          3rd Qu.:3.000   100:  1             \n",
       " Max.   :62.00          Max.   :4.000   200:  3             \n",
       " Alcohol.consumption Smoking.status   Exercise.frequency sleep_efficicient\n",
       " 0:175               Min.   :0.0000   0:84               Mode :logical    \n",
       " 1: 39               1st Qu.:0.0000   1:62               FALSE:311        \n",
       " 2: 25               Median :0.0000   2:36                                \n",
       " 3: 34               Mean   :0.3441   3:96                                \n",
       " 4: 15               3rd Qu.:1.0000   4:28                                \n",
       " 5: 23               Max.   :1.0000   5: 5                                "
      ]
     },
     "metadata": {},
     "output_type": "display_data"
    }
   ],
   "source": [
    "# here we find the number corresponding to 80% of the data\n",
    "len_train1 = ceiling(nrow(df1)*0.80)\n",
    "# use the sample int functon to get indexes\n",
    "ss1 = sample.int(nrow(df1), len_train1)\n",
    "# holdout set\n",
    "test =  df1[-ss1, ] \n",
    "# training set\n",
    "train = df1[ss1, ] \n",
    "# summarize training set\n",
    "summary(train)"
   ]
  },
  {
   "cell_type": "code",
   "execution_count": 921,
   "id": "0207de6a-1a3c-47c5-9251-f8904a57369b",
   "metadata": {
    "tags": []
   },
   "outputs": [
    {
     "data": {
      "text/html": [
       "7"
      ],
      "text/latex": [
       "7"
      ],
      "text/markdown": [
       "7"
      ],
      "text/plain": [
       "[1] 7"
      ]
     },
     "metadata": {},
     "output_type": "display_data"
    }
   ],
   "source": [
    "rem = grep(\"Sleep.efficiency\", colnames(df1))\n",
    "rem"
   ]
  },
  {
   "cell_type": "code",
   "execution_count": 922,
   "id": "2e0ab5c9-1b10-49e8-b8ed-6cd78d4b7d45",
   "metadata": {
    "tags": []
   },
   "outputs": [
    {
     "data": {
      "text/html": [
       "<table class=\"dataframe\">\n",
       "<caption>A data.frame: 6 × 20</caption>\n",
       "<thead>\n",
       "\t<tr><th></th><th scope=col>Age</th><th scope=col>Bedtime</th><th scope=col>Wakeup.time</th><th scope=col>Sleep.duration</th><th scope=col>REM.sleep.percentage</th><th scope=col>Deep.sleep.percentage</th><th scope=col>Light.sleep.percentage</th><th scope=col>Awakenings</th><th scope=col>Smoking.status</th><th scope=col>Gender.Male</th><th scope=col>Caffeine.consumption.25</th><th scope=col>Caffeine.consumption.50</th><th scope=col>Caffeine.consumption.75</th><th scope=col>Caffeine.consumption.200</th><th scope=col>Alcohol.consumption.0</th><th scope=col>Alcohol.consumption.1</th><th scope=col>Alcohol.consumption.2</th><th scope=col>Alcohol.consumption.5</th><th scope=col>Exercise.frequency.3</th><th scope=col>Exercise.frequency.5</th></tr>\n",
       "\t<tr><th></th><th scope=col>&lt;int&gt;</th><th scope=col>&lt;dbl&gt;</th><th scope=col>&lt;dbl&gt;</th><th scope=col>&lt;dbl&gt;</th><th scope=col>&lt;int&gt;</th><th scope=col>&lt;int&gt;</th><th scope=col>&lt;int&gt;</th><th scope=col>&lt;dbl&gt;</th><th scope=col>&lt;dbl&gt;</th><th scope=col>&lt;dbl&gt;</th><th scope=col>&lt;dbl&gt;</th><th scope=col>&lt;dbl&gt;</th><th scope=col>&lt;dbl&gt;</th><th scope=col>&lt;dbl&gt;</th><th scope=col>&lt;dbl&gt;</th><th scope=col>&lt;dbl&gt;</th><th scope=col>&lt;dbl&gt;</th><th scope=col>&lt;dbl&gt;</th><th scope=col>&lt;dbl&gt;</th><th scope=col>&lt;dbl&gt;</th></tr>\n",
       "</thead>\n",
       "<tbody>\n",
       "\t<tr><th scope=row>1</th><td>65</td><td> 1</td><td>7</td><td>6</td><td>18</td><td>70</td><td>12</td><td>0</td><td>1</td><td>0</td><td>0</td><td>0</td><td>0</td><td>0</td><td>1</td><td>0</td><td>0</td><td>0</td><td>1</td><td>0</td></tr>\n",
       "\t<tr><th scope=row>2</th><td>69</td><td> 2</td><td>9</td><td>7</td><td>19</td><td>28</td><td>53</td><td>3</td><td>1</td><td>1</td><td>0</td><td>0</td><td>0</td><td>0</td><td>0</td><td>0</td><td>0</td><td>0</td><td>1</td><td>0</td></tr>\n",
       "\t<tr><th scope=row>3</th><td>40</td><td>21</td><td>5</td><td>8</td><td>20</td><td>70</td><td>10</td><td>1</td><td>0</td><td>0</td><td>0</td><td>0</td><td>0</td><td>0</td><td>1</td><td>0</td><td>0</td><td>0</td><td>1</td><td>0</td></tr>\n",
       "\t<tr><th scope=row>4</th><td>40</td><td> 2</td><td>8</td><td>6</td><td>23</td><td>25</td><td>52</td><td>3</td><td>1</td><td>0</td><td>0</td><td>1</td><td>0</td><td>0</td><td>0</td><td>0</td><td>0</td><td>1</td><td>0</td><td>0</td></tr>\n",
       "\t<tr><th scope=row>5</th><td>57</td><td> 1</td><td>9</td><td>8</td><td>27</td><td>55</td><td>18</td><td>3</td><td>0</td><td>1</td><td>0</td><td>0</td><td>0</td><td>0</td><td>0</td><td>0</td><td>0</td><td>0</td><td>1</td><td>0</td></tr>\n",
       "\t<tr><th scope=row>7</th><td>27</td><td>21</td><td>3</td><td>6</td><td>28</td><td>25</td><td>47</td><td>2</td><td>1</td><td>0</td><td>0</td><td>1</td><td>0</td><td>0</td><td>1</td><td>0</td><td>0</td><td>0</td><td>0</td><td>0</td></tr>\n",
       "</tbody>\n",
       "</table>\n"
      ],
      "text/latex": [
       "A data.frame: 6 × 20\n",
       "\\begin{tabular}{r|llllllllllllllllllll}\n",
       "  & Age & Bedtime & Wakeup.time & Sleep.duration & REM.sleep.percentage & Deep.sleep.percentage & Light.sleep.percentage & Awakenings & Smoking.status & Gender.Male & Caffeine.consumption.25 & Caffeine.consumption.50 & Caffeine.consumption.75 & Caffeine.consumption.200 & Alcohol.consumption.0 & Alcohol.consumption.1 & Alcohol.consumption.2 & Alcohol.consumption.5 & Exercise.frequency.3 & Exercise.frequency.5\\\\\n",
       "  & <int> & <dbl> & <dbl> & <dbl> & <int> & <int> & <int> & <dbl> & <dbl> & <dbl> & <dbl> & <dbl> & <dbl> & <dbl> & <dbl> & <dbl> & <dbl> & <dbl> & <dbl> & <dbl>\\\\\n",
       "\\hline\n",
       "\t1 & 65 &  1 & 7 & 6 & 18 & 70 & 12 & 0 & 1 & 0 & 0 & 0 & 0 & 0 & 1 & 0 & 0 & 0 & 1 & 0\\\\\n",
       "\t2 & 69 &  2 & 9 & 7 & 19 & 28 & 53 & 3 & 1 & 1 & 0 & 0 & 0 & 0 & 0 & 0 & 0 & 0 & 1 & 0\\\\\n",
       "\t3 & 40 & 21 & 5 & 8 & 20 & 70 & 10 & 1 & 0 & 0 & 0 & 0 & 0 & 0 & 1 & 0 & 0 & 0 & 1 & 0\\\\\n",
       "\t4 & 40 &  2 & 8 & 6 & 23 & 25 & 52 & 3 & 1 & 0 & 0 & 1 & 0 & 0 & 0 & 0 & 0 & 1 & 0 & 0\\\\\n",
       "\t5 & 57 &  1 & 9 & 8 & 27 & 55 & 18 & 3 & 0 & 1 & 0 & 0 & 0 & 0 & 0 & 0 & 0 & 0 & 1 & 0\\\\\n",
       "\t7 & 27 & 21 & 3 & 6 & 28 & 25 & 47 & 2 & 1 & 0 & 0 & 1 & 0 & 0 & 1 & 0 & 0 & 0 & 0 & 0\\\\\n",
       "\\end{tabular}\n"
      ],
      "text/markdown": [
       "\n",
       "A data.frame: 6 × 20\n",
       "\n",
       "| <!--/--> | Age &lt;int&gt; | Bedtime &lt;dbl&gt; | Wakeup.time &lt;dbl&gt; | Sleep.duration &lt;dbl&gt; | REM.sleep.percentage &lt;int&gt; | Deep.sleep.percentage &lt;int&gt; | Light.sleep.percentage &lt;int&gt; | Awakenings &lt;dbl&gt; | Smoking.status &lt;dbl&gt; | Gender.Male &lt;dbl&gt; | Caffeine.consumption.25 &lt;dbl&gt; | Caffeine.consumption.50 &lt;dbl&gt; | Caffeine.consumption.75 &lt;dbl&gt; | Caffeine.consumption.200 &lt;dbl&gt; | Alcohol.consumption.0 &lt;dbl&gt; | Alcohol.consumption.1 &lt;dbl&gt; | Alcohol.consumption.2 &lt;dbl&gt; | Alcohol.consumption.5 &lt;dbl&gt; | Exercise.frequency.3 &lt;dbl&gt; | Exercise.frequency.5 &lt;dbl&gt; |\n",
       "|---|---|---|---|---|---|---|---|---|---|---|---|---|---|---|---|---|---|---|---|---|\n",
       "| 1 | 65 |  1 | 7 | 6 | 18 | 70 | 12 | 0 | 1 | 0 | 0 | 0 | 0 | 0 | 1 | 0 | 0 | 0 | 1 | 0 |\n",
       "| 2 | 69 |  2 | 9 | 7 | 19 | 28 | 53 | 3 | 1 | 1 | 0 | 0 | 0 | 0 | 0 | 0 | 0 | 0 | 1 | 0 |\n",
       "| 3 | 40 | 21 | 5 | 8 | 20 | 70 | 10 | 1 | 0 | 0 | 0 | 0 | 0 | 0 | 1 | 0 | 0 | 0 | 1 | 0 |\n",
       "| 4 | 40 |  2 | 8 | 6 | 23 | 25 | 52 | 3 | 1 | 0 | 0 | 1 | 0 | 0 | 0 | 0 | 0 | 1 | 0 | 0 |\n",
       "| 5 | 57 |  1 | 9 | 8 | 27 | 55 | 18 | 3 | 0 | 1 | 0 | 0 | 0 | 0 | 0 | 0 | 0 | 0 | 1 | 0 |\n",
       "| 7 | 27 | 21 | 3 | 6 | 28 | 25 | 47 | 2 | 1 | 0 | 0 | 1 | 0 | 0 | 1 | 0 | 0 | 0 | 0 | 0 |\n",
       "\n"
      ],
      "text/plain": [
       "  Age Bedtime Wakeup.time Sleep.duration REM.sleep.percentage\n",
       "1 65   1      7           6              18                  \n",
       "2 69   2      9           7              19                  \n",
       "3 40  21      5           8              20                  \n",
       "4 40   2      8           6              23                  \n",
       "5 57   1      9           8              27                  \n",
       "7 27  21      3           6              28                  \n",
       "  Deep.sleep.percentage Light.sleep.percentage Awakenings Smoking.status\n",
       "1 70                    12                     0          1             \n",
       "2 28                    53                     3          1             \n",
       "3 70                    10                     1          0             \n",
       "4 25                    52                     3          1             \n",
       "5 55                    18                     3          0             \n",
       "7 25                    47                     2          1             \n",
       "  Gender.Male Caffeine.consumption.25 Caffeine.consumption.50\n",
       "1 0           0                       0                      \n",
       "2 1           0                       0                      \n",
       "3 0           0                       0                      \n",
       "4 0           0                       1                      \n",
       "5 1           0                       0                      \n",
       "7 0           0                       1                      \n",
       "  Caffeine.consumption.75 Caffeine.consumption.200 Alcohol.consumption.0\n",
       "1 0                       0                        1                    \n",
       "2 0                       0                        0                    \n",
       "3 0                       0                        1                    \n",
       "4 0                       0                        0                    \n",
       "5 0                       0                        0                    \n",
       "7 0                       0                        1                    \n",
       "  Alcohol.consumption.1 Alcohol.consumption.2 Alcohol.consumption.5\n",
       "1 0                     0                     0                    \n",
       "2 0                     0                     0                    \n",
       "3 0                     0                     0                    \n",
       "4 0                     0                     1                    \n",
       "5 0                     0                     0                    \n",
       "7 0                     0                     0                    \n",
       "  Exercise.frequency.3 Exercise.frequency.5\n",
       "1 1                    0                   \n",
       "2 1                    0                   \n",
       "3 1                    0                   \n",
       "4 0                    0                   \n",
       "5 1                    0                   \n",
       "7 0                    0                   "
      ]
     },
     "metadata": {},
     "output_type": "display_data"
    }
   ],
   "source": [
    "LDF = df1\n",
    "# get pre addition length of df1\n",
    "pre = ncol(df1)\n",
    "# define keeps list as not the IDs, plus all columns\n",
    "keeps = c(FALSE, rep(TRUE, times = pre-2), FALSE)\n",
    "keeps[rem] = FALSE\n",
    "# for every column name\n",
    "for (i in colnames(df1)){\n",
    "        # if the column is one of our factors\n",
    "        if(class(df1[[i]]) == \"factor\"){\n",
    "            # get its location\n",
    "            loc = as.numeric(grep(i, colnames(df1)))\n",
    "            # remove it from the list of keeps\n",
    "            keeps[loc] = FALSE\n",
    "            # for every level in the factor \n",
    "            for (lvl in (levels(df1[[i]]))){\n",
    "                # define a name for the new exploded column\n",
    "                name = paste(i, lvl, sep = \".\")\n",
    "                # new column is whether factor is that level (0 or 1)\n",
    "                newcol = as.numeric((df1[[i]] == lvl))\n",
    "                # initiate a new column with the name and values\n",
    "                LDF[name] = newcol\n",
    "            }\n",
    "       }  \n",
    "}\n",
    "# get change in dataframe length from factor exploding\n",
    "post = ncol(df1) - pre\n",
    "# add  new columns to keeps\n",
    "keepsF = append(keeps, rep(TRUE, times = (post)))\n",
    "# slice the df1 to exclude factors and include split levels\n",
    "prDF = LDF[keepsF]\n",
    "# preview\n",
    "head(prDF)"
   ]
  },
  {
   "cell_type": "code",
   "execution_count": 923,
   "id": "fca2085c-f163-45a8-baa9-9477496ad324",
   "metadata": {
    "tags": []
   },
   "outputs": [
    {
     "data": {
      "text/html": [
       "<table class=\"dataframe\">\n",
       "<caption>A data.frame: 6 × 7</caption>\n",
       "<thead>\n",
       "\t<tr><th></th><th scope=col>Age</th><th scope=col>Bedtime</th><th scope=col>Wakeup.time</th><th scope=col>Sleep.duration</th><th scope=col>REM.sleep.percentage</th><th scope=col>Deep.sleep.percentage</th><th scope=col>Light.sleep.percentage</th></tr>\n",
       "\t<tr><th></th><th scope=col>&lt;int&gt;</th><th scope=col>&lt;dbl&gt;</th><th scope=col>&lt;dbl&gt;</th><th scope=col>&lt;dbl&gt;</th><th scope=col>&lt;int&gt;</th><th scope=col>&lt;int&gt;</th><th scope=col>&lt;int&gt;</th></tr>\n",
       "</thead>\n",
       "<tbody>\n",
       "\t<tr><th scope=row>1</th><td>65</td><td> 1</td><td>7</td><td>6</td><td>18</td><td>70</td><td>12</td></tr>\n",
       "\t<tr><th scope=row>2</th><td>69</td><td> 2</td><td>9</td><td>7</td><td>19</td><td>28</td><td>53</td></tr>\n",
       "\t<tr><th scope=row>3</th><td>40</td><td>21</td><td>5</td><td>8</td><td>20</td><td>70</td><td>10</td></tr>\n",
       "\t<tr><th scope=row>4</th><td>40</td><td> 2</td><td>8</td><td>6</td><td>23</td><td>25</td><td>52</td></tr>\n",
       "\t<tr><th scope=row>5</th><td>57</td><td> 1</td><td>9</td><td>8</td><td>27</td><td>55</td><td>18</td></tr>\n",
       "\t<tr><th scope=row>7</th><td>27</td><td>21</td><td>3</td><td>6</td><td>28</td><td>25</td><td>47</td></tr>\n",
       "</tbody>\n",
       "</table>\n"
      ],
      "text/latex": [
       "A data.frame: 6 × 7\n",
       "\\begin{tabular}{r|lllllll}\n",
       "  & Age & Bedtime & Wakeup.time & Sleep.duration & REM.sleep.percentage & Deep.sleep.percentage & Light.sleep.percentage\\\\\n",
       "  & <int> & <dbl> & <dbl> & <dbl> & <int> & <int> & <int>\\\\\n",
       "\\hline\n",
       "\t1 & 65 &  1 & 7 & 6 & 18 & 70 & 12\\\\\n",
       "\t2 & 69 &  2 & 9 & 7 & 19 & 28 & 53\\\\\n",
       "\t3 & 40 & 21 & 5 & 8 & 20 & 70 & 10\\\\\n",
       "\t4 & 40 &  2 & 8 & 6 & 23 & 25 & 52\\\\\n",
       "\t5 & 57 &  1 & 9 & 8 & 27 & 55 & 18\\\\\n",
       "\t7 & 27 & 21 & 3 & 6 & 28 & 25 & 47\\\\\n",
       "\\end{tabular}\n"
      ],
      "text/markdown": [
       "\n",
       "A data.frame: 6 × 7\n",
       "\n",
       "| <!--/--> | Age &lt;int&gt; | Bedtime &lt;dbl&gt; | Wakeup.time &lt;dbl&gt; | Sleep.duration &lt;dbl&gt; | REM.sleep.percentage &lt;int&gt; | Deep.sleep.percentage &lt;int&gt; | Light.sleep.percentage &lt;int&gt; |\n",
       "|---|---|---|---|---|---|---|---|\n",
       "| 1 | 65 |  1 | 7 | 6 | 18 | 70 | 12 |\n",
       "| 2 | 69 |  2 | 9 | 7 | 19 | 28 | 53 |\n",
       "| 3 | 40 | 21 | 5 | 8 | 20 | 70 | 10 |\n",
       "| 4 | 40 |  2 | 8 | 6 | 23 | 25 | 52 |\n",
       "| 5 | 57 |  1 | 9 | 8 | 27 | 55 | 18 |\n",
       "| 7 | 27 | 21 | 3 | 6 | 28 | 25 | 47 |\n",
       "\n"
      ],
      "text/plain": [
       "  Age Bedtime Wakeup.time Sleep.duration REM.sleep.percentage\n",
       "1 65   1      7           6              18                  \n",
       "2 69   2      9           7              19                  \n",
       "3 40  21      5           8              20                  \n",
       "4 40   2      8           6              23                  \n",
       "5 57   1      9           8              27                  \n",
       "7 27  21      3           6              28                  \n",
       "  Deep.sleep.percentage Light.sleep.percentage\n",
       "1 70                    12                    \n",
       "2 28                    53                    \n",
       "3 70                    10                    \n",
       "4 25                    52                    \n",
       "5 55                    18                    \n",
       "7 25                    47                    "
      ]
     },
     "metadata": {},
     "output_type": "display_data"
    }
   ],
   "source": [
    "dfPRZ = df1[keeps]\n",
    "dfPRZ = (dfPRZ[,-c(length(dfPRZ)-1, length(dfPRZ))])\n",
    "head(dfPRZ)"
   ]
  },
  {
   "cell_type": "code",
   "execution_count": 924,
   "id": "150fd7df-c221-4997-9d3f-5d41e900c7e7",
   "metadata": {
    "tags": []
   },
   "outputs": [
    {
     "data": {
      "text/plain": [
       "Importance of components:\n",
       "                          PC1    PC2    PC3    PC4    PC5     PC6       PC7\n",
       "Standard deviation     1.4852 1.3476 1.0318 0.9971 0.8983 0.33531 2.933e-16\n",
       "Proportion of Variance 0.3151 0.2594 0.1521 0.1420 0.1153 0.01606 0.000e+00\n",
       "Cumulative Proportion  0.3151 0.5746 0.7266 0.8687 0.9839 1.00000 1.000e+00"
      ]
     },
     "metadata": {},
     "output_type": "display_data"
    }
   ],
   "source": [
    "# scaled with only numeric non-categoricals\n",
    "pcaEff_Z = prcomp(dfPRZ, scale = TRUE)\n",
    "summary(pcaEff_Z)"
   ]
  },
  {
   "cell_type": "code",
   "execution_count": 925,
   "id": "f15ec8ee-b1f6-4d3e-9c7e-9f46c3b7eeb5",
   "metadata": {
    "tags": []
   },
   "outputs": [
    {
     "data": {
      "text/plain": [
       "Importance of components:\n",
       "                           PC1     PC2     PC3     PC4     PC5     PC6     PC7\n",
       "Standard deviation     21.7659 13.4427 10.5017 4.19520 1.41600 1.26730 0.60549\n",
       "Proportion of Variance  0.6014  0.2294  0.1400 0.02234 0.00255 0.00204 0.00047\n",
       "Cumulative Proportion   0.6014  0.8308  0.9708 0.99319 0.99574 0.99777 0.99824\n",
       "                           PC8     PC9    PC10    PC11    PC12   PC13   PC14\n",
       "Standard deviation     0.56557 0.51016 0.43668 0.43011 0.34504 0.2863 0.2838\n",
       "Proportion of Variance 0.00041 0.00033 0.00024 0.00023 0.00015 0.0001 0.0001\n",
       "Cumulative Proportion  0.99865 0.99898 0.99922 0.99945 0.99960 0.9997 0.9998\n",
       "                          PC15    PC16    PC17    PC18    PC19      PC20\n",
       "Standard deviation     0.26064 0.18684 0.15151 0.12702 0.08545 4.151e-15\n",
       "Proportion of Variance 0.00009 0.00004 0.00003 0.00002 0.00001 0.000e+00\n",
       "Cumulative Proportion  0.99990 0.99994 0.99997 0.99999 1.00000 1.000e+00"
      ]
     },
     "metadata": {},
     "output_type": "display_data"
    }
   ],
   "source": [
    "# not scaled, with exploded categoricals by factor\n",
    "pcaEff = prcomp(prDF, scale = FALSE)\n",
    "summary(pcaEff)"
   ]
  },
  {
   "cell_type": "code",
   "execution_count": 926,
   "id": "93f52aaf-d331-4c19-9fd8-a1b6aa8979d0",
   "metadata": {
    "tags": []
   },
   "outputs": [
    {
     "data": {
      "image/png": "[encoded data removed]",
      "text/plain": [
       "Plot with title “Principal Component Analysis of Explanatory Variables”"
      ]
     },
     "metadata": {
      "image/png": {
       "height": 420,
       "width": 420
      }
     },
     "output_type": "display_data"
    }
   ],
   "source": [
    "# A biplot of the first two components and the original axes overlaid\n",
    "screeplot(pcaEff, type = \"lines\", main = \"Principal Component Analysis of Explanatory Variables\")"
   ]
  },
  {
   "cell_type": "code",
   "execution_count": 927,
   "id": "f1530ccd-9e9d-4cb7-98c7-80119bcf8ca1",
   "metadata": {
    "tags": []
   },
   "outputs": [
    {
     "data": {
      "image/png": "[encoded data removed]",
      "text/plain": [
       "Plot with title “Standardized Principal Component Analysis”"
      ]
     },
     "metadata": {
      "image/png": {
       "height": 420,
       "width": 420
      }
     },
     "output_type": "display_data"
    }
   ],
   "source": [
    "# A biplot of the first two components and the original axes overlaid\n",
    "screeplot(pcaEff_Z, type = \"lines\", main = \"Standardized Principal Component Analysis\")"
   ]
  },
  {
   "cell_type": "code",
   "execution_count": 928,
   "id": "23935c23-6094-4198-a150-1614dfdba0ef",
   "metadata": {
    "tags": []
   },
   "outputs": [
    {
     "data": {
      "image/png": "[encoded data removed]",
      "text/plain": [
       "Plot with title “Cumulative Proportion of Variance By Component, \n",
       " Standardized Model”"
      ]
     },
     "metadata": {
      "image/png": {
       "height": 420,
       "width": 420
      }
     },
     "output_type": "display_data"
    }
   ],
   "source": [
    "# Calculate proportion of total variance by component\n",
    "plot(cumsum((pcaEff_Z$sdev)^2 / sum(pcaEff_Z$sdev^2)), main = \"Cumulative Proportion of Variance By Component, \\n Standardized Model\")"
   ]
  },
  {
   "cell_type": "code",
   "execution_count": 929,
   "id": "ff4c36a4-bf08-451c-a36b-256c2097bd74",
   "metadata": {
    "tags": []
   },
   "outputs": [
    {
     "data": {
      "image/png": "[encoded data removed]",
      "text/plain": [
       "Plot with title “Cumulative Proportion of Variance By Component, \n",
       " Original Model”"
      ]
     },
     "metadata": {
      "image/png": {
       "height": 420,
       "width": 420
      }
     },
     "output_type": "display_data"
    }
   ],
   "source": [
    "# Calculate proportion of total variance by component\n",
    "plot(cumsum((pcaEff$sdev)^2 / sum(pcaEff$sdev^2)), main = \"Cumulative Proportion of Variance By Component, \\n Original Model\")"
   ]
  },
  {
   "cell_type": "code",
   "execution_count": 930,
   "id": "feab0044-ef95-454c-9540-7423e4ecacaa",
   "metadata": {
    "tags": []
   },
   "outputs": [
    {
     "data": {
      "text/plain": [
       "Standard deviations (1, .., p=7):\n",
       "[1] 1.485201e+00 1.347616e+00 1.031755e+00 9.971307e-01 8.982706e-01\n",
       "[6] 3.353069e-01 2.932928e-16\n",
       "\n",
       "Rotation (n x k) = (7 x 7):\n",
       "                               PC1        PC2          PC3          PC4\n",
       "Age                    -0.00205427 -0.1294273 -0.753254705 -0.413155498\n",
       "Bedtime                -0.43500777  0.3791336  0.223570422  0.037517320\n",
       "Wakeup.time             0.50231159 -0.4580843 -0.004723227 -0.005646384\n",
       "Sleep.duration          0.30542046 -0.3141986  0.361635640  0.295323336\n",
       "REM.sleep.percentage    0.02589215  0.1409775 -0.495736477  0.839156054\n",
       "Deep.sleep.percentage  -0.48070863 -0.5167516  0.054729168  0.002852242\n",
       "Light.sleep.percentage  0.48312964  0.4940014  0.055416913 -0.190935101\n",
       "                                PC5          PC6           PC7\n",
       "Age                     0.492268260 -0.053161990  0.000000e+00\n",
       "Bedtime                 0.533580330  0.575262303  1.423818e-15\n",
       "Wakeup.time            -0.051307556  0.731542998 -3.580574e-16\n",
       "Sleep.duration          0.681657295 -0.354040580 -8.110789e-17\n",
       "REM.sleep.percentage   -0.009195351  0.073131131  1.551925e-01\n",
       "Deep.sleep.percentage  -0.051379105  0.003264537  7.044381e-01\n",
       "Light.sleep.percentage  0.054318425 -0.019707253  6.925910e-01"
      ]
     },
     "metadata": {},
     "output_type": "display_data"
    }
   ],
   "source": [
    "prcomp(dfPRZ, scale = TRUE)"
   ]
  },
  {
   "cell_type": "code",
   "execution_count": 931,
   "id": "68ce9bc4-2033-44d3-abb6-9e0e849c46d9",
   "metadata": {
    "tags": []
   },
   "outputs": [
    {
     "data": {
      "text/plain": [
       "Standard deviations (1, .., p=20):\n",
       " [1] 2.176594e+01 1.344266e+01 1.050165e+01 4.195199e+00 1.416004e+00\n",
       " [6] 1.267304e+00 6.054864e-01 5.655710e-01 5.101615e-01 4.366766e-01\n",
       "[11] 4.301134e-01 3.450444e-01 2.862615e-01 2.838359e-01 2.606351e-01\n",
       "[16] 1.868416e-01 1.515099e-01 1.270224e-01 8.544886e-02 4.151014e-15\n",
       "\n",
       "Rotation (n x k) = (20 x 20):\n",
       "                                   PC1           PC2           PC3\n",
       "Age                      -5.759104e-02 -0.9840268093  0.1675163635\n",
       "Bedtime                  -5.977577e-02  0.1685088262  0.9726665376\n",
       "Wakeup.time               1.209005e-02 -0.0298261563 -0.1430902135\n",
       "Sleep.duration            1.806995e-03  0.0026933479 -0.0137089184\n",
       "REM.sleep.percentage      1.244512e-02 -0.0063063660  0.0013167237\n",
       "Deep.sleep.percentage    -7.105521e-01  0.0358161875 -0.0501748532\n",
       "Light.sleep.percentage    6.981070e-01 -0.0295098215  0.0488581295\n",
       "Awakenings                2.103805e-02 -0.0038731191 -0.0101360784\n",
       "Smoking.status            4.715231e-03 -0.0020961843 -0.0073353256\n",
       "Gender.Male              -1.055956e-03 -0.0100418889  0.0017451378\n",
       "Caffeine.consumption.25  -2.239500e-03  0.0024544925 -0.0038019231\n",
       "Caffeine.consumption.50   3.641083e-03  0.0013286335 -0.0054676181\n",
       "Caffeine.consumption.75  -8.119694e-04  0.0020116113  0.0014111572\n",
       "Caffeine.consumption.200 -1.614022e-04  0.0002450225  0.0006574035\n",
       "Alcohol.consumption.0    -7.800610e-03  0.0038641278 -0.0028966593\n",
       "Alcohol.consumption.1    -1.422918e-03  0.0019059776 -0.0001566115\n",
       "Alcohol.consumption.2     3.840603e-03 -0.0016460325  0.0032345137\n",
       "Alcohol.consumption.5     2.202545e-03  0.0009317385  0.0006681762\n",
       "Exercise.frequency.3     -8.820406e-04 -0.0070880890  0.0077854788\n",
       "Exercise.frequency.5      6.976438e-05  0.0011168800  0.0016314130\n",
       "                                   PC4           PC5           PC6\n",
       "Age                      -0.0066664432  0.0013498657 -0.0019371838\n",
       "Bedtime                  -0.0071262731 -0.1273616566  0.0351103682\n",
       "Wakeup.time              -0.0509125784 -0.8276830717  0.1526246652\n",
       "Sleep.duration           -0.0060441498 -0.5108821731  0.0893334964\n",
       "REM.sleep.percentage      0.8147958983 -0.0341430514  0.0227352713\n",
       "Deep.sleep.percentage    -0.3967313735  0.0168161079  0.0034997214\n",
       "Light.sleep.percentage   -0.4180645248  0.0173269435 -0.0262349927\n",
       "Awakenings               -0.0184584937  0.1795119960  0.9801896808\n",
       "Smoking.status            0.0024571903 -0.0057413243 -0.0406208662\n",
       "Gender.Male              -0.0132561913  0.0284811674  0.0342186222\n",
       "Caffeine.consumption.25  -0.0098256986 -0.0170312595  0.0141018352\n",
       "Caffeine.consumption.50   0.0187763153 -0.0299440098 -0.0311140508\n",
       "Caffeine.consumption.75   0.0005222881  0.0067487670 -0.0088800028\n",
       "Caffeine.consumption.200  0.0006438261  0.0035779893 -0.0036665480\n",
       "Alcohol.consumption.0     0.0079876255 -0.0001803898 -0.0319932729\n",
       "Alcohol.consumption.1    -0.0026439445 -0.0133061070  0.0071582252\n",
       "Alcohol.consumption.2    -0.0043274784 -0.0161197300  0.0002513313\n",
       "Alcohol.consumption.5    -0.0046290913  0.0215160682  0.0051295649\n",
       "Exercise.frequency.3      0.0112038862 -0.0272233685  0.0090385730\n",
       "Exercise.frequency.5     -0.0011531340 -0.0037197303 -0.0153762033\n",
       "                                   PC7          PC8          PC9         PC10\n",
       "Age                       0.0088439415 -0.008301331  0.007939105  0.003813276\n",
       "Bedtime                   0.0240775408  0.055623017 -0.013834931 -0.018907038\n",
       "Wakeup.time               0.1668908100  0.424162345 -0.121798054 -0.201464788\n",
       "Sleep.duration           -0.3083697187 -0.691908933  0.220922971  0.307233972\n",
       "REM.sleep.percentage      0.0028036447  0.007392318 -0.013701145 -0.019894324\n",
       "Deep.sleep.percentage     0.0003652561 -0.002086167  0.002675568  0.015055746\n",
       "Light.sleep.percentage   -0.0031689007 -0.005306150  0.011025576  0.004838579\n",
       "Awakenings                0.0178257682  0.016987475  0.031915764  0.054602043\n",
       "Smoking.status           -0.2012892821  0.220628563 -0.312112915  0.623016214\n",
       "Gender.Male              -0.6301118822  0.191533749 -0.212370863 -0.223815427\n",
       "Caffeine.consumption.25   0.2001731897 -0.301801226 -0.205833371 -0.276421791\n",
       "Caffeine.consumption.50   0.3069834974  0.239094635  0.177006286  0.554853543\n",
       "Caffeine.consumption.75  -0.0044868784  0.024270772 -0.017294631 -0.026344739\n",
       "Caffeine.consumption.200 -0.0188973010 -0.008519427  0.010196785 -0.005292786\n",
       "Alcohol.consumption.0    -0.2092369625  0.238564401  0.717401559 -0.130259486\n",
       "Alcohol.consumption.1     0.1736668083 -0.182054329 -0.369360530 -0.054215393\n",
       "Alcohol.consumption.2     0.0730315167  0.007818090 -0.094842047  0.094321960\n",
       "Alcohol.consumption.5     0.0337164074  0.021654561 -0.100960069  0.070036040\n",
       "Exercise.frequency.3     -0.4724295079  0.112674383 -0.217605302  0.063366618\n",
       "Exercise.frequency.5      0.0147566566 -0.015920017  0.022782227 -0.007748333\n",
       "                                 PC11          PC12          PC13          PC14\n",
       "Age                       0.005017824  0.0001303445  0.0001739474  0.0029265193\n",
       "Bedtime                   0.012442006  0.0031281928 -0.0015028049  0.0036737945\n",
       "Wakeup.time               0.033967359 -0.0076470546 -0.0436987279  0.0185307373\n",
       "Sleep.duration           -0.043267844  0.0865226784  0.0402494065  0.0196775766\n",
       "REM.sleep.percentage      0.007594219  0.0123522600 -0.0043519487 -0.0011633969\n",
       "Deep.sleep.percentage    -0.005699257 -0.0039992578 -0.0002171895 -0.0009281495\n",
       "Light.sleep.percentage   -0.001894962 -0.0083530023  0.0045691381  0.0020915464\n",
       "Awakenings                0.026983339 -0.0171104069  0.0011035409 -0.0022510278\n",
       "Smoking.status            0.635244381  0.0458054651 -0.0928966211  0.0104771364\n",
       "Gender.Male              -0.094246889  0.4656732389  0.4292192816 -0.0761279945\n",
       "Caffeine.consumption.25   0.457521213 -0.2408595109  0.2193465038 -0.3115187991\n",
       "Caffeine.consumption.50  -0.323049931 -0.0400660493  0.5236257017 -0.0789034668\n",
       "Caffeine.consumption.75   0.053785507  0.1497970649 -0.0405447383  0.1370677957\n",
       "Caffeine.consumption.200 -0.009898544 -0.0003561919  0.0170602488 -0.0046843854\n",
       "Alcohol.consumption.0     0.391988992 -0.2074410476  0.1609214239 -0.0160228709\n",
       "Alcohol.consumption.1     0.060173641 -0.1631794222  0.5126707470  0.2778406776\n",
       "Alcohol.consumption.2    -0.122381780  0.1539410423 -0.1939730898 -0.7916728922\n",
       "Alcohol.consumption.5    -0.085550887  0.0962179534 -0.3773943802  0.4011234274\n",
       "Exercise.frequency.3     -0.295236236 -0.7669949561 -0.0834091265 -0.0781886351\n",
       "Exercise.frequency.5      0.011818558  0.0032458112 -0.0600017550 -0.0062922275\n",
       "                                  PC15          PC16          PC17\n",
       "Age                      -0.0007730149  0.0015499693 -0.0010312254\n",
       "Bedtime                   0.0031470434 -0.0041747470  0.0036670211\n",
       "Wakeup.time              -0.0022750888 -0.0230093557  0.0142150439\n",
       "Sleep.duration            0.0102674881  0.0372980223 -0.0265582184\n",
       "REM.sleep.percentage      0.0031112998 -0.0015116937 -0.0025025488\n",
       "Deep.sleep.percentage    -0.0010198025  0.0003282356  0.0015382852\n",
       "Light.sleep.percentage   -0.0020914973  0.0011834581  0.0009642635\n",
       "Awakenings               -0.0134314736  0.0043000669 -0.0022825862\n",
       "Smoking.status           -0.0434618354 -0.0810463339  0.0215239596\n",
       "Gender.Male               0.2162159441  0.0614687985 -0.0261026953\n",
       "Caffeine.consumption.25   0.4688082435  0.2964017107  0.1702949169\n",
       "Caffeine.consumption.50   0.2622619558  0.2078326278  0.0822920442\n",
       "Caffeine.consumption.75  -0.4704681021  0.8266514451  0.2045476862\n",
       "Caffeine.consumption.200  0.0080963269 -0.0044694999 -0.0405386407\n",
       "Alcohol.consumption.0    -0.0250726859  0.1026072294 -0.3628520205\n",
       "Alcohol.consumption.1    -0.3465306050 -0.0599124991 -0.5500542727\n",
       "Alcohol.consumption.2    -0.1591224243  0.1338125405 -0.4787116875\n",
       "Alcohol.consumption.5     0.5424829265  0.3392162885 -0.5020105951\n",
       "Exercise.frequency.3     -0.0058222940  0.1484135842  0.0203769613\n",
       "Exercise.frequency.5      0.0268919681 -0.0644328934 -0.0533589388\n",
       "                                  PC18          PC19          PC20\n",
       "Age                      -4.141628e-04 -0.0001970804  7.049032e-17\n",
       "Bedtime                   1.444211e-03 -0.0010895200 -2.392575e-16\n",
       "Wakeup.time              -1.013854e-03 -0.0123200552 -4.592129e-16\n",
       "Sleep.duration            5.762735e-03  0.0124018009  1.190047e-15\n",
       "REM.sleep.percentage     -6.968530e-04  0.0001257826 -5.773503e-01\n",
       "Deep.sleep.percentage     4.674904e-05 -0.0001713889 -5.773503e-01\n",
       "Light.sleep.percentage    6.501039e-04  0.0000456063 -5.773503e-01\n",
       "Awakenings               -1.570833e-02 -0.0042703942  1.550131e-17\n",
       "Smoking.status           -1.269825e-03 -0.0133059652 -6.832152e-16\n",
       "Gender.Male              -3.863369e-02  0.0188660382 -5.581096e-16\n",
       "Caffeine.consumption.25  -1.698971e-02 -0.0062768184 -4.901774e-16\n",
       "Caffeine.consumption.50  -4.488951e-02 -0.0002251024 -1.534785e-15\n",
       "Caffeine.consumption.75  -7.447476e-02 -0.0205836708 -4.775300e-16\n",
       "Caffeine.consumption.200  3.660365e-02 -0.9979635793  4.188597e-16\n",
       "Alcohol.consumption.0     1.672382e-02  0.0237709844 -1.006451e-15\n",
       "Alcohol.consumption.1    -1.183701e-02  0.0209922088 -6.146653e-16\n",
       "Alcohol.consumption.2     2.603273e-02  0.0170901805  8.737078e-16\n",
       "Alcohol.consumption.5     3.583419e-02  0.0148976386 -5.585223e-16\n",
       "Exercise.frequency.3     -2.590259e-02  0.0049579836  3.404954e-16\n",
       "Exercise.frequency.5     -9.929648e-01 -0.0346865360 -5.557362e-16"
      ]
     },
     "metadata": {},
     "output_type": "display_data"
    }
   ],
   "source": [
    "prcomp(prDF, scale = FALSE)"
   ]
  }
 ],
 "metadata": {
  "kernelspec": {
   "display_name": "R",
   "language": "R",
   "name": "ir"
  },
  "language_info": {
   "codemirror_mode": "r",
   "file_extension": ".r",
   "mimetype": "text/x-r-source",
   "name": "R",
   "pygments_lexer": "r",
   "version": "4.2.3"
  }
 },
 "nbformat": 4,
 "nbformat_minor": 5
}
